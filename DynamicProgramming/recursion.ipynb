{
 "cells": [
  {
   "cell_type": "markdown",
   "metadata": {},
   "source": [
    "https://www.youtube.com/watch?v=ngCos392W4w <br>\n",
    "Write a recursive function that given an input *n* sums all nonnegative integers up to *n*"
   ]
  },
  {
   "cell_type": "code",
   "execution_count": 49,
   "metadata": {},
   "outputs": [],
   "source": [
    "def sum_iterative(n):\n",
    "    sum = 0\n",
    "    for i in range(1, n+1):\n",
    "        sum += i\n",
    "    return sum"
   ]
  },
  {
   "cell_type": "code",
   "execution_count": 50,
   "metadata": {},
   "outputs": [],
   "source": [
    "def sum_math(n):\n",
    "    return n*(n+1)//2"
   ]
  },
  {
   "cell_type": "markdown",
   "metadata": {},
   "source": [
    "Resursion solutions uses simpler versions of the problem. <br>\n",
    "1. What is the simplest possible input? <br>\n",
    "sum(0) → 0 <br>\n",
    "The simplest case often traslates itself into a base case for our recursive problem.<br>\n",
    "The base case is the only input where the programmer provide an explicit answer. <br>\n",
    "All other solutions to the problem will build on the base case. <br>\n",
    "2. Play around with examples and visualize. <br>"
   ]
  },
  {
   "cell_type": "code",
   "execution_count": 51,
   "metadata": {},
   "outputs": [],
   "source": [
    "def visualize_sum(n):\n",
    "    k = 1\n",
    "    for i in range(1, n+1):\n",
    "        for j in range(1, i+1):\n",
    "            print(f\"[{k}] \", end=\"\")\n",
    "            k += 1\n",
    "        print()"
   ]
  },
  {
   "cell_type": "code",
   "execution_count": 52,
   "metadata": {},
   "outputs": [
    {
     "name": "stdout",
     "output_type": "stream",
     "text": [
      "[1] \n",
      "[2] [3] \n",
      "[4] [5] [6] \n"
     ]
    }
   ],
   "source": [
    "visualize_sum(3)"
   ]
  },
  {
   "cell_type": "code",
   "execution_count": 53,
   "metadata": {},
   "outputs": [
    {
     "name": "stdout",
     "output_type": "stream",
     "text": [
      "[1] \n",
      "[2] [3] \n",
      "[4] [5] [6] \n",
      "[7] [8] [9] [10] \n"
     ]
    }
   ],
   "source": [
    "visualize_sum(4)"
   ]
  },
  {
   "cell_type": "markdown",
   "metadata": {},
   "source": [
    "3. Relate hard cases to simpler cases. <br>\n",
    "Can I relate sum(3) and sum(4)? <br>\n",
    "4. Generalize the pattern. <br>\n",
    "5. Write code by combining recursive pattern with the base case.\n"
   ]
  },
  {
   "cell_type": "code",
   "execution_count": 54,
   "metadata": {},
   "outputs": [],
   "source": [
    "def sum_recursive(n):\n",
    "    if n == 0:\n",
    "        return 0\n",
    "    return n + sum_recursive(n-1)"
   ]
  },
  {
   "cell_type": "code",
   "execution_count": 55,
   "metadata": {},
   "outputs": [
    {
     "name": "stdout",
     "output_type": "stream",
     "text": [
      "10\n",
      "10\n",
      "10\n"
     ]
    }
   ],
   "source": [
    "print(sum_iterative(4))\n",
    "print(sum_math(4))\n",
    "print(sum_recursive(4))"
   ]
  },
  {
   "cell_type": "markdown",
   "metadata": {},
   "source": [
    "Write a function that takes two inputs *n* and *m* and outputs the number of unique paths from the top left corner to bottom right corner of a *n* x *m* grid. Constraints: you can only move down or right 1 unit at a time."
   ]
  },
  {
   "cell_type": "code",
   "execution_count": 56,
   "metadata": {},
   "outputs": [],
   "source": [
    "def grid_paths(n, m):\n",
    "    if n == 1 or m == 1:\n",
    "        return 1\n",
    "    return grid_paths(n-1, m) + grid_paths(n, m-1)"
   ]
  },
  {
   "cell_type": "code",
   "execution_count": 57,
   "metadata": {},
   "outputs": [
    {
     "data": {
      "text/plain": [
       "4"
      ]
     },
     "execution_count": 57,
     "metadata": {},
     "output_type": "execute_result"
    }
   ],
   "source": [
    "grid_paths(2, 4)"
   ]
  },
  {
   "cell_type": "code",
   "execution_count": 58,
   "metadata": {},
   "outputs": [
    {
     "data": {
      "text/plain": [
       "6"
      ]
     },
     "execution_count": 58,
     "metadata": {},
     "output_type": "execute_result"
    }
   ],
   "source": [
    "grid_paths(3, 3)"
   ]
  },
  {
   "cell_type": "markdown",
   "metadata": {},
   "source": [
    "Write a function that counts the number of ways you can partition *n* objects using parts up to *m* (assuming *m* ≥ 0)"
   ]
  },
  {
   "cell_type": "code",
   "execution_count": 59,
   "metadata": {},
   "outputs": [],
   "source": [
    "def partition(n, m):\n",
    "    if n == 0:\n",
    "        return 1\n",
    "    elif m == 0 or n < 0:\n",
    "        return 0\n",
    "    else:\n",
    "        return partition(n, m-1) + partition(n - m, m)"
   ]
  },
  {
   "cell_type": "code",
   "execution_count": 60,
   "metadata": {},
   "outputs": [
    {
     "name": "stdout",
     "output_type": "stream",
     "text": [
      "7\n"
     ]
    }
   ],
   "source": [
    "print(partition(5, 5))"
   ]
  }
 ],
 "metadata": {
  "kernelspec": {
   "display_name": "base",
   "language": "python",
   "name": "python3"
  },
  "language_info": {
   "codemirror_mode": {
    "name": "ipython",
    "version": 3
   },
   "file_extension": ".py",
   "mimetype": "text/x-python",
   "name": "python",
   "nbconvert_exporter": "python",
   "pygments_lexer": "ipython3",
   "version": "3.11.7"
  }
 },
 "nbformat": 4,
 "nbformat_minor": 2
}
