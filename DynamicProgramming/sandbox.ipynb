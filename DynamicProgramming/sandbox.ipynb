{
 "cells": [
  {
   "cell_type": "code",
   "execution_count": 1,
   "metadata": {},
   "outputs": [],
   "source": [
    "# linear time complexity\n",
    "memo = {}\n",
    "\n",
    "def fib(n):\n",
    "    if n in memo:\n",
    "        return memo[n]\n",
    "    \n",
    "    if n <= 2:\n",
    "        result = 1\n",
    "    else:\n",
    "        result = fib(n-1) + fib(n-2)\n",
    "\n",
    "    memo[n] = result\n",
    "    return memo[n]\n"
   ]
  },
  {
   "cell_type": "code",
   "execution_count": 2,
   "metadata": {},
   "outputs": [],
   "source": [
    "def fib_bottom_up(n):\n",
    "    memo = {}\n",
    "\n",
    "    # solve dependencies from the bottom up\n",
    "    for i in range(1, n+1):\n",
    "        if i <= 2:\n",
    "            memo[i] = 1\n",
    "        else:\n",
    "            memo[i] = memo[i-1] + memo[i-2]\n",
    "\n",
    "    return memo[n]"
   ]
  },
  {
   "cell_type": "code",
   "execution_count": 3,
   "metadata": {},
   "outputs": [],
   "source": [
    "coins = [1, 4, 5]\n",
    "\n",
    "def min_coins(n):\n",
    "    memo = {}\n",
    "    memo[0] = 0\n",
    "\n",
    "    for i in range(1, n+1):\n",
    "        memo[i] = float(\"inf\")\n",
    "        for coin in coins:\n",
    "            if i - coin >= 0:\n",
    "                memo[i] = min(memo[i], memo[i-coin] + 1)\n",
    "\n",
    "    return memo[n]"
   ]
  },
  {
   "cell_type": "code",
   "execution_count": 4,
   "metadata": {},
   "outputs": [],
   "source": [
    "def determine_best(a, b):\n",
    "    if a is None:\n",
    "        return b\n",
    "    if b is None:\n",
    "        return a\n",
    "    return min(a, b)\n",
    "\n",
    "def brute_min_coins(m, coins):\n",
    "    if m == 0:\n",
    "        answer = 0\n",
    "    else:\n",
    "        answer = None\n",
    "        for coin in coins:\n",
    "            subproblem = m - coin\n",
    "            if subproblem < 0:\n",
    "                # skip solutions where we try to reach a negative amount\n",
    "                continue\n",
    "            bfs_answer = brute_min_coins(subproblem, coins)\n",
    "            if bfs_answer is None:\n",
    "                continue\n",
    "            answer = determine_best(answer, bfs_answer + 1)\n",
    "    return answer"
   ]
  },
  {
   "cell_type": "code",
   "execution_count": 5,
   "metadata": {},
   "outputs": [
    {
     "name": "stdout",
     "output_type": "stream",
     "text": [
      "3\n"
     ]
    }
   ],
   "source": [
    "print(brute_min_coins(13, [1, 4, 5]))"
   ]
  },
  {
   "cell_type": "code",
   "execution_count": 6,
   "metadata": {},
   "outputs": [],
   "source": [
    "memo = {}\n",
    "\n",
    "def min_coins_recursive(m, coins):\n",
    "    # immediately return known answers\n",
    "    if m in memo:\n",
    "        return memo[m]\n",
    "    \n",
    "    if m == 0:\n",
    "        answer = 0\n",
    "    else:\n",
    "        answer = None\n",
    "        for coin in coins:\n",
    "            subproblem = m - coin\n",
    "            if subproblem < 0:\n",
    "                # skip solutions where we try to reach a negative amount\n",
    "                continue\n",
    "            bfs_answer = brute_min_coins(subproblem, coins)\n",
    "            if bfs_answer is None:\n",
    "                continue\n",
    "            answer = determine_best(answer, bfs_answer + 1)\n",
    "    memo[m] = answer\n",
    "    return answer"
   ]
  },
  {
   "cell_type": "code",
   "execution_count": 7,
   "metadata": {},
   "outputs": [
    {
     "name": "stdout",
     "output_type": "stream",
     "text": [
      "3\n"
     ]
    }
   ],
   "source": [
    "print(min_coins_recursive(13, [1, 4, 5]))"
   ]
  },
  {
   "cell_type": "code",
   "execution_count": 8,
   "metadata": {},
   "outputs": [],
   "source": [
    "def min_coins_bottom_up(m, coins):\n",
    "    memo = {}\n",
    "    memo[0] = 0\n",
    "\n",
    "    for i in range(1, m+1):\n",
    "        memo[i] = float(\"inf\") # acts as an unbounded upper value for comparison\n",
    "        for coin in coins:\n",
    "            subproblem = i - coin\n",
    "            if subproblem < 0:\n",
    "                continue\n",
    "\n",
    "            # dict.get(key, default) returns the value of the key if it exists, otherwise it returns the default value\n",
    "            # dict[key] will throw an error if the key does not exist\n",
    "            memo[i] = min(memo[i], memo[subproblem] + 1)\n",
    "\n",
    "    return memo[m]"
   ]
  },
  {
   "cell_type": "code",
   "execution_count": null,
   "metadata": {},
   "outputs": [],
   "source": [
    "memo = {}\n",
    "\n",
    "def min_coins_recursive(m, coins):\n",
    "    # immediately return known answers\n",
    "    if m in memo:\n",
    "        return memo[m]\n",
    "    \n",
    "    if m == 0:\n",
    "        answer = 0\n",
    "    else:\n",
    "        answer = None\n",
    "        for coin in coins:\n",
    "            subproblem = m - coin\n",
    "            if subproblem < 0:\n",
    "                # skip solutions where we try to reach a negative amount\n",
    "                continue\n",
    "            bfs_answer = brute_min_coins(subproblem, coins)\n",
    "            if bfs_answer is None:\n",
    "                continue\n",
    "            answer = determine_best(answer, bfs_answer + 1)\n",
    "    memo[m] = answer\n",
    "    return answer"
   ]
  },
  {
   "cell_type": "code",
   "execution_count": 2,
   "metadata": {},
   "outputs": [],
   "source": [
    "def determine_sum(a, b):\n",
    "    if a is None:\n",
    "        return b\n",
    "    if b is None:\n",
    "        return a\n",
    "    return a + b\n",
    "\n",
    "solved = {}\n",
    "\n",
    "def count_change(m, coins):\n",
    "    # immediately return known answers\n",
    "    if m in solved:\n",
    "        return solved[m]\n",
    "    \n",
    "    # valid path found\n",
    "    if m == 0:\n",
    "        return 1\n",
    "\n",
    "    # valid path not yet found\n",
    "    answer = None \n",
    "    # check all coins for possible solutions\n",
    "    for coin in coins:\n",
    "        subproblem = m - coin\n",
    "        if subproblem < 0:\n",
    "            continue\n",
    "        subproblem_result = count_change(subproblem, coins)\n",
    "        if subproblem_result is None:\n",
    "            continue\n",
    "        # path found\n",
    "        answer = determine_sum(answer, subproblem_result)\n",
    "    solved[m] = answer\n",
    "    return answer"
   ]
  },
  {
   "cell_type": "code",
   "execution_count": 15,
   "metadata": {},
   "outputs": [
    {
     "name": "stdout",
     "output_type": "stream",
     "text": [
      "4\n"
     ]
    }
   ],
   "source": [
    "print(count_change(5, [1, 4, 5]))"
   ]
  },
  {
   "cell_type": "code",
   "execution_count": null,
   "metadata": {},
   "outputs": [],
   "source": [
    "solved = {}\n",
    "def count_paths(m, coints):\n",
    "    if m in solved:\n",
    "        return solved[m]\n",
    "    if m == 0:\n",
    "        return 1\n",
    "    \n",
    "    answer = None\n",
    "    for coin in coins:\n",
    "        subproblem = m - coin\n",
    "        if subproblem < 0:\n",
    "            continue\n",
    "        subproblem_result = count_paths(subproblem, coins)\n",
    "        if subproblem_result is None:\n",
    "            continue\n",
    "        answer = determine_sum(answer, subproblem_result)"
   ]
  },
  {
   "cell_type": "code",
   "execution_count": null,
   "metadata": {},
   "outputs": [],
   "source": [
    "# defaultdict is a subclass of dict that allows you to specify a default value for keys that do not exist\n",
    "from collections import defaultdict\n",
    "\n",
    "    "
   ]
  }
 ],
 "metadata": {
  "kernelspec": {
   "display_name": "base",
   "language": "python",
   "name": "python3"
  },
  "language_info": {
   "codemirror_mode": {
    "name": "ipython",
    "version": 3
   },
   "file_extension": ".py",
   "mimetype": "text/x-python",
   "name": "python",
   "nbconvert_exporter": "python",
   "pygments_lexer": "ipython3",
   "version": "3.11.7"
  }
 },
 "nbformat": 4,
 "nbformat_minor": 2
}
