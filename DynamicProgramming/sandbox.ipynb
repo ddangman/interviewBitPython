{
 "cells": [
  {
   "cell_type": "markdown",
   "metadata": {},
   "source": [
    "https://www.youtube.com/watch?v=Hdr64lKQ3e4 "
   ]
  },
  {
   "cell_type": "code",
   "execution_count": 47,
   "metadata": {},
   "outputs": [],
   "source": [
    "# linear time complexity\n",
    "memo = {}\n",
    "\n",
    "def fib(n):\n",
    "    if n in memo:\n",
    "        return memo[n]\n",
    "    \n",
    "    if n <= 2:\n",
    "        result = 1\n",
    "    else:\n",
    "        result = fib(n-1) + fib(n-2)\n",
    "\n",
    "    memo[n] = result\n",
    "    return memo[n]\n"
   ]
  },
  {
   "cell_type": "code",
   "execution_count": 48,
   "metadata": {},
   "outputs": [],
   "source": [
    "def fib_bottom_up(n):\n",
    "    memo = {}\n",
    "\n",
    "    # solve dependencies from the bottom up\n",
    "    for i in range(1, n+1):\n",
    "        if i <= 2:\n",
    "            memo[i] = 1\n",
    "        else:\n",
    "            memo[i] = memo[i-1] + memo[i-2]\n",
    "\n",
    "    return memo[n]"
   ]
  },
  {
   "cell_type": "code",
   "execution_count": 49,
   "metadata": {},
   "outputs": [],
   "source": [
    "coins = [1, 4, 5]\n",
    "\n",
    "def min_coins(n):\n",
    "    memo = {}\n",
    "    memo[0] = 0\n",
    "\n",
    "    for i in range(1, n+1):\n",
    "        memo[i] = float(\"inf\") # acts as an unbounded upper value for comparison\n",
    "        for coin in coins:\n",
    "            if i - coin >= 0:\n",
    "                memo[i] = min(memo[i], memo[i-coin] + 1)\n",
    "\n",
    "    return memo[n]"
   ]
  },
  {
   "cell_type": "code",
   "execution_count": 50,
   "metadata": {},
   "outputs": [],
   "source": [
    "def determine_best(a, b):\n",
    "    # ignore subproblems that have no solution\n",
    "    if a is None:\n",
    "        return b\n",
    "    if b is None:\n",
    "        return a\n",
    "    \n",
    "    # return the best valid solution\n",
    "    return min(a, b)\n",
    "\n",
    "def brute_min_coins(m, coins):\n",
    "    if m == 0:\n",
    "        answer = 0\n",
    "    else:\n",
    "        answer = None\n",
    "        for coin in coins:\n",
    "            subproblem = m - coin\n",
    "            if subproblem < 0:\n",
    "                # skip solutions where we try to reach a negative amount\n",
    "                continue\n",
    "            bfs_answer = brute_min_coins(subproblem, coins)\n",
    "            if bfs_answer is None:\n",
    "                continue\n",
    "            answer = determine_best(answer, bfs_answer + 1)\n",
    "    return answer"
   ]
  },
  {
   "cell_type": "code",
   "execution_count": 51,
   "metadata": {},
   "outputs": [
    {
     "name": "stdout",
     "output_type": "stream",
     "text": [
      "3\n"
     ]
    }
   ],
   "source": [
    "print(brute_min_coins(13, [1, 4, 5]))"
   ]
  },
  {
   "cell_type": "code",
   "execution_count": 52,
   "metadata": {},
   "outputs": [],
   "source": [
    "def min_coins_recursive(m, coins):\n",
    "    # immediately return known answers\n",
    "    if m in memo:\n",
    "        return memo[m]\n",
    "    \n",
    "    if m == 0:\n",
    "        answer = 0\n",
    "    else:\n",
    "        answer = None\n",
    "        for coin in coins:\n",
    "            subproblem = m - coin\n",
    "            if subproblem < 0:\n",
    "                # skip solutions where we try to reach a negative amount\n",
    "                continue\n",
    "            subproblem_result = min_coins_recursive(subproblem, coins)\n",
    "            if subproblem_result is None:\n",
    "                continue\n",
    "            # save the best answer found\n",
    "            # from valid subproblem_result, we add 1 to account for the coin we just used\n",
    "            answer = determine_best(answer, subproblem_result + 1)\n",
    "    memo[m] = answer\n",
    "    return answer"
   ]
  },
  {
   "cell_type": "code",
   "execution_count": 53,
   "metadata": {},
   "outputs": [
    {
     "name": "stdout",
     "output_type": "stream",
     "text": [
      "30\n"
     ]
    }
   ],
   "source": [
    "memo = {}\n",
    "print(min_coins_recursive(150, [1, 4, 5]))"
   ]
  },
  {
   "cell_type": "code",
   "execution_count": 54,
   "metadata": {},
   "outputs": [],
   "source": [
    "def min_coins_bottom_up(m, coins):\n",
    "    memo = {}\n",
    "    memo[0] = 0\n",
    "\n",
    "    for i in range(1, m+1):\n",
    "        memo[i] = float(\"inf\") # acts as an unbounded upper value for comparison\n",
    "        for coin in coins:\n",
    "            subproblem = i - coin\n",
    "            if subproblem < 0:\n",
    "                continue\n",
    "\n",
    "            # dict.get(key, default) returns the value of the key if it exists, otherwise it returns the default value\n",
    "            # dict[key] will throw an error if the key does not exist\n",
    "            memo[i] = min(memo[i], memo[subproblem] + 1)\n",
    "\n",
    "    return memo[m]"
   ]
  },
  {
   "cell_type": "code",
   "execution_count": 55,
   "metadata": {},
   "outputs": [
    {
     "name": "stdout",
     "output_type": "stream",
     "text": [
      "8\n"
     ]
    }
   ],
   "source": [
    "coins = [200, 100, 50, 20, 10, 5, 2, 1]\n",
    "print(min_coins_bottom_up(734, coins))"
   ]
  },
  {
   "cell_type": "code",
   "execution_count": 56,
   "metadata": {},
   "outputs": [
    {
     "name": "stdout",
     "output_type": "stream",
     "text": [
      "30\n"
     ]
    }
   ],
   "source": [
    "print(min_coins_bottom_up(150, [1, 4, 5]))"
   ]
  },
  {
   "cell_type": "code",
   "execution_count": 57,
   "metadata": {},
   "outputs": [],
   "source": [
    "def determine_sum(a, b):\n",
    "    if a is None:\n",
    "        return b\n",
    "    if b is None:\n",
    "        return a\n",
    "    return a + b\n",
    "\n",
    "known_paths = {}\n",
    "\n",
    "def count_change(m, coins):\n",
    "    # immediately return known answers\n",
    "    if m in known_paths:\n",
    "        return known_paths[m]\n",
    "    \n",
    "    # valid path found\n",
    "    if m == 0:\n",
    "        return 1\n",
    "\n",
    "    # valid path not yet found\n",
    "    answer = None \n",
    "    # check all coins for possible solutions\n",
    "    for coin in coins:\n",
    "        subproblem = m - coin\n",
    "        if subproblem < 0:\n",
    "            continue\n",
    "        subproblem_result = count_change(subproblem, coins)\n",
    "        if subproblem_result is None:\n",
    "            continue\n",
    "        # path found\n",
    "        answer = determine_sum(answer, subproblem_result)\n",
    "    known_paths[m] = answer\n",
    "    return answer"
   ]
  },
  {
   "cell_type": "code",
   "execution_count": 58,
   "metadata": {},
   "outputs": [
    {
     "name": "stdout",
     "output_type": "stream",
     "text": [
      "4\n"
     ]
    }
   ],
   "source": [
    "print(count_change(5, [1, 4, 5]))"
   ]
  },
  {
   "cell_type": "code",
   "execution_count": 59,
   "metadata": {},
   "outputs": [],
   "source": [
    "known_paths = {}\n",
    "def count_paths(m, coints):\n",
    "    if m in known_paths:\n",
    "        return known_paths[m]\n",
    "    if m == 0:\n",
    "        return 1\n",
    "    \n",
    "    answer = None\n",
    "    for coin in coins:\n",
    "        subproblem = m - coin\n",
    "        if subproblem < 0:\n",
    "            continue\n",
    "        subproblem_result = count_paths(subproblem, coins)\n",
    "        if subproblem_result is None:\n",
    "            continue\n",
    "        answer = determine_sum(answer, subproblem_result)"
   ]
  },
  {
   "cell_type": "code",
   "execution_count": 60,
   "metadata": {},
   "outputs": [],
   "source": [
    "# defaultdict is a subclass of dict that allows you to specify a default value for keys that do not exist\n",
    "from collections import defaultdict\n",
    "\n",
    "def count_paths(m, coins):\n",
    "    known_paths = defaultdict(lambda _: 0)\n",
    "    known_paths[0] = 1\n",
    "\n",
    "    for i in range(1, m+1):\n",
    "        known_paths[i] = 0\n",
    "\n",
    "        for coin in coins:\n",
    "            # from the current amount i, subtract the coin\n",
    "            subproblem = i - coin\n",
    "            # if the subproblem is negative, skip it\n",
    "            if subproblem < 0:\n",
    "                continue\n",
    "            # add the number of ways to solve the subproblem to the known paths dictionary\n",
    "            known_paths[i] += known_paths[subproblem]\n",
    "\n",
    "    return known_paths[m]\n",
    "\n",
    "    "
   ]
  },
  {
   "cell_type": "code",
   "execution_count": 61,
   "metadata": {},
   "outputs": [
    {
     "name": "stdout",
     "output_type": "stream",
     "text": [
      "4\n"
     ]
    }
   ],
   "source": [
    "print(count_paths(5, [1, 4, 5]))"
   ]
  },
  {
   "cell_type": "code",
   "execution_count": 62,
   "metadata": {},
   "outputs": [],
   "source": [
    "def grid_paths(n, m):\n",
    "    memo = {}\n",
    "\n",
    "    # base case: there is only one way to reach bottom right corner from rightmost column or bottom row\n",
    "    for i in range(1, n+1):\n",
    "        memo[(i, 1)] = 1\n",
    "    for j in range(1, m+1):\n",
    "        memo[(1, j)] = 1\n",
    "\n",
    "    for i in range(2, n+1):\n",
    "        for j in range(2, m+1):\n",
    "            # add together the number of ways to reach the cell from the cell above and the cell to the left\n",
    "            memo[(i, j)] = memo[(i-1, j)] + memo[(i, j-1)]\n",
    "\n",
    "    # solution is number of ways to reach the bottom right corner from the top left corner\n",
    "    return memo[(n, m)]"
   ]
  },
  {
   "cell_type": "code",
   "execution_count": 63,
   "metadata": {},
   "outputs": [
    {
     "name": "stdout",
     "output_type": "stream",
     "text": [
      "26334\n"
     ]
    }
   ],
   "source": [
    "print(grid_paths(18, 6))"
   ]
  },
  {
   "cell_type": "code",
   "execution_count": 64,
   "metadata": {},
   "outputs": [
    {
     "name": "stdout",
     "output_type": "stream",
     "text": [
      "5873182941643167150\n"
     ]
    }
   ],
   "source": [
    "print(grid_paths(75, 19))"
   ]
  },
  {
   "cell_type": "markdown",
   "metadata": {},
   "source": [
    "https://www.youtube.com/watch?v=rE5h11FwiVw"
   ]
  },
  {
   "cell_type": "markdown",
   "metadata": {},
   "source": [
    "Longest Common Subsequence <br>\n",
    "A = [1, 4, 5, 6, 9, 10, 11] <br>\n",
    "B = [6, 4, 5, 9, 11] <br>\n",
    "Define a subproblem such that subproblems are overlapping. <br>\n",
    "Then try to find a relationship between subproblems. <br>\n",
    "Option 1: Consider any subsequence. 2^(2n) subproblems <br>\n",
    "Option 2: Consider only continuous parts. N^4 subproblems <br>\n",
    "Option 3a: Consider only prefixes. N^2 subproblems <br>\n",
    "Option 3b: Consider only suffixes. N^2 subproblems <br>\n"
   ]
  },
  {
   "cell_type": "markdown",
   "metadata": {},
   "source": [
    "L(n,m) = LCS(A[0...n], B[0...m]) is the LCS subproblem for the 1st n elements of A and 1st m elements of B<br>\n",
    "\n",
    "L(5,3) = LCS( [1, 4, 5, 6, 9], [6, 4, 5] ) <br>\n",
    "case 1: $$A[n-1]\\neq B[m-1]\\Rightarrow L(n,m)=max[L(n-1,m),L(n,m-1)]$$\n",
    "If the last elements are not equal, we cannot select both. eg 9≠5 <br>\n",
    "The LCS can end with 9 or 5. Not both. Maybe none. ie at least one is not in the final solution. <br>\n",
    "We should choose the longest subproblem.\n",
    "\n",
    "L(5,4) = LCS( [1, 4, 5, 6, 9], [6, 4, 5, 9] ) <br>\n",
    "case 2: $$A[n-1]=B[m-1]\\Rightarrow L(n,m)=1+L(n-1,m-1)$$\n",
    "We extend LCS by 1. <br>\n",
    "Base case: L(any, 0)=L(0, any)=0"
   ]
  },
  {
   "cell_type": "code",
   "execution_count": 11,
   "metadata": {},
   "outputs": [],
   "source": [
    "def reconstruct_lcs(X, Y, dp):\n",
    "    i, j = len(X), len(Y)\n",
    "    lcs = []\n",
    "    while i > 0 and j > 0:\n",
    "        # if the characters match, add the character to the lcs and move diagonally\n",
    "        if X[i-1] == Y[j-1]:\n",
    "            lcs.append(X[i-1])\n",
    "            i -= 1\n",
    "            j -= 1\n",
    "        # if the characters do not match, move in the direction of the greater value\n",
    "        elif dp[i-1][j] > dp[i][j-1]:\n",
    "            i -= 1\n",
    "        else:\n",
    "            j -= 1\n",
    "    return lcs[::-1]\n",
    "\n",
    "def lcs(X, Y, reconstruct=False): \n",
    "    # find the length of the strings \n",
    "    m = len(X) \n",
    "    n = len(Y) \n",
    "\n",
    "    # declaring the array for storing the dp values \n",
    "    dp = [[None]*(n + 1) for i in range(m + 1)] \n",
    "\n",
    "    # build dp[m + 1][n + 1] in bottom up fashion \n",
    "    # dp[i][j] contains length of LCS of X[0..i-1] and Y[0..j-1]\n",
    "    for i in range(m + 1): \n",
    "        for j in range(n + 1): \n",
    "            # initialize the out of bounds first row and first column to 0\n",
    "            if i == 0 or j == 0 : \n",
    "                dp[i][j] = 0\n",
    "            # if the last characters match, add 1 to the length of the LCS\n",
    "            elif X[i-1] == Y[j-1]: \n",
    "                dp[i][j] = dp[i-1][j-1]+1\n",
    "            # if the last characters do not match, take the max of the previous row and column\n",
    "            else: \n",
    "                dp[i][j] = max(dp[i-1][j], dp[i][j-1]) \n",
    "\n",
    "    # if the user wants to reconstruct the LCS, return the LCS\n",
    "    if reconstruct:\n",
    "        return reconstruct_lcs(X, Y, dp)\n",
    "\n",
    "    # L[m][n] contains the length of LCS of X[0...n-1] & Y[0...m-1] \n",
    "    return dp[m][n] "
   ]
  },
  {
   "cell_type": "code",
   "execution_count": 12,
   "metadata": {},
   "outputs": [
    {
     "name": "stdout",
     "output_type": "stream",
     "text": [
      "4\n",
      "[4, 5, 9, 11]\n"
     ]
    }
   ],
   "source": [
    "x = [6, 4, 5, 9, 11]\n",
    "y = [1, 15, 4, 5, 6, 9, 10, 11]\n",
    "print(lcs(x, y))\n",
    "print(lcs(x, y, True))"
   ]
  },
  {
   "cell_type": "code",
   "execution_count": 3,
   "metadata": {},
   "outputs": [
    {
     "name": "stdout",
     "output_type": "stream",
     "text": [
      "0\n"
     ]
    }
   ],
   "source": [
    "x = []\n",
    "y = [1, 15, 4, 5, 6, 9, 10, 11]\n",
    "print(lcs(x, y))"
   ]
  },
  {
   "cell_type": "code",
   "execution_count": 4,
   "metadata": {},
   "outputs": [
    {
     "name": "stdout",
     "output_type": "stream",
     "text": [
      "0\n"
     ]
    }
   ],
   "source": [
    "x = []\n",
    "y = []\n",
    "print(lcs(x, y))"
   ]
  },
  {
   "cell_type": "code",
   "execution_count": 13,
   "metadata": {},
   "outputs": [
    {
     "name": "stdout",
     "output_type": "stream",
     "text": [
      "5\n",
      "[1, 2, 3, 4, 5]\n"
     ]
    }
   ],
   "source": [
    "x = [1, 2, 3, 4, 5]\n",
    "y = [1, 2, 3, 4, 5]\n",
    "print(lcs(x, y))\n",
    "print(lcs(x, y, True))"
   ]
  },
  {
   "cell_type": "code",
   "execution_count": 14,
   "metadata": {},
   "outputs": [
    {
     "name": "stdout",
     "output_type": "stream",
     "text": [
      "4\n",
      "[1, 3, 4, 5]\n"
     ]
    }
   ],
   "source": [
    "x = [1, 2, 3, 4, 5]\n",
    "y = [1, 3, 2, 4, 5]\n",
    "print(lcs(x, y))\n",
    "print(lcs(x, y, True))"
   ]
  }
 ],
 "metadata": {
  "kernelspec": {
   "display_name": "base",
   "language": "python",
   "name": "python3"
  },
  "language_info": {
   "codemirror_mode": {
    "name": "ipython",
    "version": 3
   },
   "file_extension": ".py",
   "mimetype": "text/x-python",
   "name": "python",
   "nbconvert_exporter": "python",
   "pygments_lexer": "ipython3",
   "version": "3.11.7"
  }
 },
 "nbformat": 4,
 "nbformat_minor": 2
}
